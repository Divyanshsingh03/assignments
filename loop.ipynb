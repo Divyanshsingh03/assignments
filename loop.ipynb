{
 "cells": [
  {
   "cell_type": "code",
   "execution_count": 2,
   "id": "8cecd5b4-ec30-4f0d-8471-c73b68affdd9",
   "metadata": {},
   "outputs": [
    {
     "name": "stdout",
     "output_type": "stream",
     "text": [
      "[1, 2, 3, 4, 5, 6, 7, 8, 9]\n",
      "['Divyansh', 'Narendra maodi', 'yogi ji']\n"
     ]
    }
   ],
   "source": [
    "l=[1,2,3,4,5,'Divyansh','Narendra maodi',6,7,8,9,'yogi ji']\n",
    "l1num=[]\n",
    "l2str=[]\n",
    "for i in l:\n",
    "    if type(i)==int or type(i)==float :\n",
    "        l1num.append(i)\n",
    "    else:\n",
    "        l2str.append(i)\n",
    "print(l1num)\n",
    "print(l2str)"
   ]
  },
  {
   "cell_type": "code",
   "execution_count": 4,
   "id": "3867261c-1bea-4d15-b727-654f5ef0ae26",
   "metadata": {},
   "outputs": [
    {
     "name": "stdout",
     "output_type": "stream",
     "text": [
      "[2, 3]\n"
     ]
    }
   ],
   "source": [
    "my_list=[1,2,3,4,5]\n",
    "sub_list=my_list[1:3]\n",
    "print(sub_list)"
   ]
  },
  {
   "cell_type": "code",
   "execution_count": 6,
   "id": "2cb685d6-6f76-4a13-b1b5-c20ad70316ad",
   "metadata": {},
   "outputs": [
    {
     "data": {
      "text/plain": [
       "'World'"
      ]
     },
     "execution_count": 6,
     "metadata": {},
     "output_type": "execute_result"
    }
   ],
   "source": [
    "str='Hello,World'\n",
    "str.strip(',Hello')"
   ]
  },
  {
   "cell_type": "code",
   "execution_count": null,
   "id": "da375b75-9a8d-4140-a1a5-158072517d1c",
   "metadata": {},
   "outputs": [],
   "source": []
  }
 ],
 "metadata": {
  "kernelspec": {
   "display_name": "Python 3 (ipykernel)",
   "language": "python",
   "name": "python3"
  },
  "language_info": {
   "codemirror_mode": {
    "name": "ipython",
    "version": 3
   },
   "file_extension": ".py",
   "mimetype": "text/x-python",
   "name": "python",
   "nbconvert_exporter": "python",
   "pygments_lexer": "ipython3",
   "version": "3.10.8"
  }
 },
 "nbformat": 4,
 "nbformat_minor": 5
}
