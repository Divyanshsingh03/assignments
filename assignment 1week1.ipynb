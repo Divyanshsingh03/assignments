{
 "cells": [
  {
   "cell_type": "code",
   "execution_count": 2,
   "id": "027fd798-9f15-4f30-beda-d255847676cb",
   "metadata": {},
   "outputs": [
    {
     "data": {
      "text/plain": [
       "int"
      ]
     },
     "execution_count": 2,
     "metadata": {},
     "output_type": "execute_result"
    }
   ],
   "source": [
    "var1=' '\n",
    "var2='[DS,ML,Python]'\n",
    "var3=['DS','ML','Python']\n",
    "var4=1\n",
    "type(var1)"
   ]
  },
  {
   "cell_type": "code",
   "execution_count": 3,
   "id": "a16b196e-86ee-4f63-a77f-5f50e73600d1",
   "metadata": {},
   "outputs": [
    {
     "data": {
      "text/plain": [
       "str"
      ]
     },
     "execution_count": 3,
     "metadata": {},
     "output_type": "execute_result"
    }
   ],
   "source": [
    "type(var2)"
   ]
  },
  {
   "cell_type": "code",
   "execution_count": 4,
   "id": "b3815ee1-d05d-4224-8038-898138d17829",
   "metadata": {},
   "outputs": [
    {
     "data": {
      "text/plain": [
       "list"
      ]
     },
     "execution_count": 4,
     "metadata": {},
     "output_type": "execute_result"
    }
   ],
   "source": [
    "type(var3)"
   ]
  },
  {
   "cell_type": "code",
   "execution_count": 5,
   "id": "63d7eaf1-7459-45dc-96b6-48b315e79b27",
   "metadata": {},
   "outputs": [
    {
     "data": {
      "text/plain": [
       "int"
      ]
     },
     "execution_count": 5,
     "metadata": {},
     "output_type": "execute_result"
    }
   ],
   "source": [
    "type(var4)"
   ]
  },
  {
   "cell_type": "code",
   "execution_count": 7,
   "id": "8f56ed95-8cea-467f-a2bb-95953eaa24b2",
   "metadata": {},
   "outputs": [
    {
     "name": "stdout",
     "output_type": "stream",
     "text": [
      "3.3333333333333335\n"
     ]
    }
   ],
   "source": [
    "d=10\n",
    "c=3\n",
    "print(d/c)\n"
   ]
  },
  {
   "cell_type": "markdown",
   "id": "17eca714-10c8-4433-a4f8-be896c554acd",
   "metadata": {},
   "source": [
    "single slash is used for float division."
   ]
  },
  {
   "cell_type": "code",
   "execution_count": 9,
   "id": "dac6f265-4674-41fe-94c3-9575ffe614c0",
   "metadata": {},
   "outputs": [
    {
     "name": "stdout",
     "output_type": "stream",
     "text": [
      "1\n"
     ]
    }
   ],
   "source": [
    "d=10\n",
    "c=3\n",
    "print(d%c)"
   ]
  },
  {
   "cell_type": "markdown",
   "id": "f08f1977-68c2-4e5a-8c12-128a02036266",
   "metadata": {},
   "source": [
    "modulus is used for getting remainder"
   ]
  },
  {
   "cell_type": "code",
   "execution_count": 10,
   "id": "b2bb27f8-821a-445f-9f02-743b2dad2b89",
   "metadata": {},
   "outputs": [
    {
     "name": "stdout",
     "output_type": "stream",
     "text": [
      "3\n"
     ]
    }
   ],
   "source": [
    "d=10\n",
    "c=3\n",
    "print(d//c)"
   ]
  },
  {
   "cell_type": "markdown",
   "id": "30859206-a403-4cf6-86ec-b19d24d68159",
   "metadata": {},
   "source": [
    "double slash is used for integer division"
   ]
  },
  {
   "cell_type": "code",
   "execution_count": 11,
   "id": "9e796e61-d478-4baa-aa71-f0d8b0e9bdc5",
   "metadata": {},
   "outputs": [
    {
     "name": "stdout",
     "output_type": "stream",
     "text": [
      "1000\n"
     ]
    }
   ],
   "source": [
    "d=10\n",
    "c=3\n",
    "print(d**c)"
   ]
  },
  {
   "cell_type": "markdown",
   "id": "4ed5b747-7807-4eec-88d4-589d33e5c7ce",
   "metadata": {},
   "source": [
    "** is used for power"
   ]
  },
  {
   "cell_type": "code",
   "execution_count": 1,
   "id": "03cffefd-391f-4fb3-a748-064ad9ac7359",
   "metadata": {},
   "outputs": [
    {
     "name": "stdout",
     "output_type": "stream",
     "text": [
      "1\n",
      "2\n",
      "3\n",
      "4\n",
      "5\n",
      "6\n",
      "7\n",
      "8\n",
      "9\n",
      "10\n"
     ]
    }
   ],
   "source": [
    "l=[1,2,3,4,5,6,7,8,9,10]\n",
    "for i in l:\n",
    "    print(i)"
   ]
  },
  {
   "cell_type": "code",
   "execution_count": 6,
   "id": "72851f6c-71ef-47a9-8d4a-5812af1cd3dc",
   "metadata": {},
   "outputs": [
    {
     "name": "stdin",
     "output_type": "stream",
     "text": [
      "Enter the number A 128\n",
      "Enter the number B 2\n"
     ]
    },
    {
     "name": "stdout",
     "output_type": "stream",
     "text": [
      "7\n"
     ]
    }
   ],
   "source": [
    "A=int(input(\"Enter the number A\"))\n",
    "B=int(input(\"Enter the number B\"))\n",
    "i=0\n",
    "while A%B==0:\n",
    "    A=A//B\n",
    "    i+=1\n",
    "print(i)"
   ]
  },
  {
   "cell_type": "code",
   "execution_count": 5,
   "id": "2fe8a778-4a6b-4e9a-9239-3ea60aaa8bd2",
   "metadata": {},
   "outputs": [
    {
     "name": "stdout",
     "output_type": "stream",
     "text": [
      "Index 0 divisible by 3\n",
      "Index 1 not divisible by 3\n",
      "Index 2 not divisible by 3\n",
      "Index 3 divisible by 3\n",
      "Index 4 not divisible by 3\n",
      "Index 5 not divisible by 3\n",
      "Index 6 divisible by 3\n",
      "Index 7 not divisible by 3\n",
      "Index 8 not divisible by 3\n",
      "Index 9 divisible by 3\n",
      "Index 10 not divisible by 3\n",
      "Index 11 not divisible by 3\n",
      "Index 12 divisible by 3\n",
      "Index 13 not divisible by 3\n",
      "Index 14 not divisible by 3\n",
      "Index 15 divisible by 3\n",
      "Index 16 not divisible by 3\n",
      "Index 17 not divisible by 3\n",
      "Index 18 divisible by 3\n",
      "Index 19 not divisible by 3\n",
      "Index 20 not divisible by 3\n",
      "Index 21 divisible by 3\n",
      "Index 22 not divisible by 3\n",
      "Index 23 not divisible by 3\n",
      "Index 24 divisible by 3\n"
     ]
    }
   ],
   "source": [
    "l1=[0,1,2,3,4,5,6,7,8,9,10,11,12,13,14,15,16,17,18,19,20,21,22,23,24]\n",
    "for i in l1:\n",
    "    if i%3==0:\n",
    "        print(\"Index\",l1.index(i),\"divisible by 3\")\n",
    "    else:\n",
    "        print(\"Index\",l1.index(i),\"not divisible by 3\")"
   ]
  },
  {
   "cell_type": "markdown",
   "id": "51720f72-6df4-4546-9431-a5cea954912f",
   "metadata": {},
   "source": [
    "(Q7). Mutable:The datatype in which we are able to change the element at any index is known as mutable datatype.Eg.->List."
   ]
  },
  {
   "cell_type": "code",
   "execution_count": 7,
   "id": "0786196a-b41c-4f39-8e56-72ad16f54b45",
   "metadata": {},
   "outputs": [],
   "source": [
    "D=[1,2,3,4,5]\n",
    "D[0]=0"
   ]
  },
  {
   "cell_type": "code",
   "execution_count": 8,
   "id": "fdefa1ee-686b-45b7-a463-def166df50cc",
   "metadata": {},
   "outputs": [
    {
     "data": {
      "text/plain": [
       "[0, 2, 3, 4, 5]"
      ]
     },
     "execution_count": 8,
     "metadata": {},
     "output_type": "execute_result"
    }
   ],
   "source": [
    "D"
   ]
  },
  {
   "cell_type": "markdown",
   "id": "27d49764-ef1d-44ab-9419-122ee0bc5add",
   "metadata": {},
   "source": [
    "Immutable:The data type in which we are unable to change the element at any index is known as immutable data type.Eg.Tuple."
   ]
  },
  {
   "cell_type": "code",
   "execution_count": 9,
   "id": "fcebfd13-2fb7-4087-8820-b20ad649c842",
   "metadata": {},
   "outputs": [
    {
     "ename": "TypeError",
     "evalue": "'tuple' object does not support item assignment",
     "output_type": "error",
     "traceback": [
      "\u001b[0;31m---------------------------------------------------------------------------\u001b[0m",
      "\u001b[0;31mTypeError\u001b[0m                                 Traceback (most recent call last)",
      "Cell \u001b[0;32mIn[9], line 2\u001b[0m\n\u001b[1;32m      1\u001b[0m T\u001b[38;5;241m=\u001b[39m(\u001b[38;5;241m1\u001b[39m,\u001b[38;5;241m2\u001b[39m,\u001b[38;5;241m3\u001b[39m,\u001b[38;5;241m4\u001b[39m,\u001b[38;5;241m5\u001b[39m)\n\u001b[0;32m----> 2\u001b[0m \u001b[43mT\u001b[49m\u001b[43m[\u001b[49m\u001b[38;5;241;43m0\u001b[39;49m\u001b[43m]\u001b[49m\u001b[38;5;241m=\u001b[39m\u001b[38;5;241m0\u001b[39m\n",
      "\u001b[0;31mTypeError\u001b[0m: 'tuple' object does not support item assignment"
     ]
    }
   ],
   "source": [
    "T=(1,2,3,4,5)\n",
    "T[0]=0"
   ]
  },
  {
   "cell_type": "code",
   "execution_count": null,
   "id": "5dfb6e52-4742-4755-8fc3-a4e72cf0031c",
   "metadata": {},
   "outputs": [],
   "source": []
  }
 ],
 "metadata": {
  "kernelspec": {
   "display_name": "Python 3 (ipykernel)",
   "language": "python",
   "name": "python3"
  },
  "language_info": {
   "codemirror_mode": {
    "name": "ipython",
    "version": 3
   },
   "file_extension": ".py",
   "mimetype": "text/x-python",
   "name": "python",
   "nbconvert_exporter": "python",
   "pygments_lexer": "ipython3",
   "version": "3.10.8"
  }
 },
 "nbformat": 4,
 "nbformat_minor": 5
}
